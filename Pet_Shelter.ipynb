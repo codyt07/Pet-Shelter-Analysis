{
 "cells": [
  {
   "cell_type": "code",
   "execution_count": 1,
   "id": "6f6a23d9",
   "metadata": {},
   "outputs": [],
   "source": [
    "import pandas as pd\n",
    "import numpy as py\n",
    "import matplotlib.pyplot as plt\n",
    "intakes = pd.read_csv('aac_intakes.csv')\n",
    "intakes_outcomes = pd.read_csv('aac_intakes_outcomes.csv')\n",
    "outcomes = pd.read_csv('aac_outcomes.csv')"
   ]
  },
  {
   "cell_type": "markdown",
   "id": "98db70e4",
   "metadata": {},
   "source": [
    "   ## Intakes import and datetime conversion"
   ]
  },
  {
   "cell_type": "code",
   "execution_count": 2,
   "id": "566ac7d4",
   "metadata": {
    "scrolled": true
   },
   "outputs": [],
   "source": [
    "\n",
    "first = intakes['datetime'] = pd.to_datetime(intakes['datetime'])\n",
    "second = intakes['datetime2'] = pd.to_datetime(intakes['datetime2'])"
   ]
  },
  {
   "cell_type": "markdown",
   "id": "9085e794",
   "metadata": {},
   "source": [
    "## Is there an area where more pets are found?"
   ]
  },
  {
   "cell_type": "code",
   "execution_count": 3,
   "id": "02ba59e2",
   "metadata": {
    "scrolled": true
   },
   "outputs": [
    {
     "data": {
      "text/plain": [
       "found_location\n",
       "7201 Levander Loop in Austin (TX)               517\n",
       "4434 Frontier Trl in Austin (TX)                163\n",
       "124 W Anderson Ln in Austin (TX)                153\n",
       "12034 Research Blvd in Austin (TX)               98\n",
       "1156 W Cesar Chavez in Austin (TX)               98\n",
       "12034 Research in Austin (TX)                    96\n",
       "1834 Ferguson in Austin (TX)                     90\n",
       "1156 W Cesar Chavez St in Austin (TX)            74\n",
       "4106 N Lamar in Austin (TX)                      71\n",
       "14811 Chicadee in Pflugerville (TX)              67\n",
       "4106 N Lamar Blvd in Austin (TX)                 66\n",
       "7619 Scenic Brook in Austin (TX)                 53\n",
       "124 West Anderson Lane in Austin (TX)            51\n",
       "6600 Elm Creek Dr in Austin (TX)                 47\n",
       "21413 Webber Oaks Cv in Travis (TX)              45\n",
       "4434 Frontier Trail in Austin (TX)               43\n",
       "4434 Frontier in Austin (TX)                     41\n",
       "1156 Cesar Chavez in Austin (TX)                 39\n",
       "12901 N Ih 35 #1100 in Austin (TX)               38\n",
       "1601 E Slaughter Ln in Austin (TX)               37\n",
       "5701 Johnny Morris Rd in Austin (TX)             36\n",
       "1000 Ellingson in Austin (TX)                    36\n",
       "12138 N Lamar Blvd in Austin (TX)                34\n",
       "5338 Thunder Creek in Austin (TX)                32\n",
       "Riverside And Pleasant Valley in Austin (TX)     32\n",
       "dtype: int64"
      ]
     },
     "execution_count": 3,
     "metadata": {},
     "output_type": "execute_result"
    }
   ],
   "source": [
    "# Filter out cities only\n",
    "specific = intakes[intakes.found_location.str.contains(' in ')]\n",
    "# Group the remaining together\n",
    "specific = specific.groupby(['found_location'])\n",
    "# Sort the data into ascending\n",
    "specific = specific.size().sort_values(ascending=False)\n",
    "# Return first 25. \n",
    "specific[:25]"
   ]
  },
  {
   "cell_type": "markdown",
   "id": "f7c8d3d5",
   "metadata": {},
   "source": [
    "## What is the average number of pets found in a month in the year 2015? Are there months where there is a higher number of animals found?"
   ]
  },
  {
   "cell_type": "code",
   "execution_count": 4,
   "id": "913b8c8e",
   "metadata": {
    "scrolled": true
   },
   "outputs": [
    {
     "name": "stdout",
     "output_type": "stream",
     "text": [
      "The monthly intake average is 1559.33 animals per month\n"
     ]
    }
   ],
   "source": [
    "# Set the date range\n",
    "fifteen = intakes[intakes['datetime'] >= pd.Timestamp(2015,1,1)]\n",
    "fifteen = fifteen[fifteen['datetime'] < pd.Timestamp(2016,1,1)]\n",
    "# Total the intakes\n",
    "total = fifteen['animal_id'].count()\n",
    "# Take the total and divide by 12 for average....\n",
    "average = total / 12\n",
    "# The number below will average across the montes\n",
    "print(f'The monthly intake average is {average.round(2)} animals per month')"
   ]
  },
  {
   "cell_type": "code",
   "execution_count": 5,
   "id": "75947954",
   "metadata": {
    "scrolled": true
   },
   "outputs": [
    {
     "name": "stdout",
     "output_type": "stream",
     "text": [
      "The following graph below shows intakes on a month basis based on animal ID\n",
      "As the Graph shows, there are more intakes in June, May, August, and October\n"
     ]
    },
    {
     "data": {
      "image/png": "[encoded data removed]",
      "text/plain": [
       "<Figure size 432x288 with 1 Axes>"
      ]
     },
     "metadata": {
      "needs_background": "light"
     },
     "output_type": "display_data"
    }
   ],
   "source": [
    "month_breakdown = fifteen.groupby(pd.Grouper(key=\"datetime\", freq=\"M\")).count().plot(kind=\"bar\", title='Monthly Intake', y=\"animal_id\")\n",
    "print(f'The following graph below shows intakes on a month basis based on animal ID')\n",
    "\n",
    "print(f'As the Graph shows, there are more intakes in June, May, August, and October')\n"
   ]
  },
  {
   "cell_type": "markdown",
   "id": "3a7aa9d8",
   "metadata": {},
   "source": [
    "## What is the ratio of incoming pets vs. adopted pets?\n"
   ]
  },
  {
   "cell_type": "code",
   "execution_count": 6,
   "id": "2cb30c7c",
   "metadata": {},
   "outputs": [
    {
     "name": "stdout",
     "output_type": "stream",
     "text": [
      "The total incoming pets is 80187\n",
      "The total number out going pets is 80681\n",
      "For every pet taken in, 1.0062 is adopted out.\n"
     ]
    }
   ],
   "source": [
    "# Get the Total numbers\n",
    "num1 = intakes['animal_id'].count()\n",
    "num2 = outcomes['animal_id'].count()\n",
    "# Do some math\n",
    "ratio = num2 / num1\n",
    "# Present the results\n",
    "print(f'The total incoming pets is {num1}')\n",
    "print(f'The total number out going pets is {num2}')\n",
    "print(f'For every pet taken in, {ratio.round(4)} is adopted out.')\n"
   ]
  },
  {
   "cell_type": "markdown",
   "id": "6e932ec4",
   "metadata": {},
   "source": [
    "## What is the distribution of the types of animals in the shelter?"
   ]
  },
  {
   "cell_type": "code",
   "execution_count": 39,
   "id": "73c456d7",
   "metadata": {},
   "outputs": [
    {
     "data": {
      "image/png": "[encoded data removed]",
      "text/plain": [
       "<Figure size 432x288 with 1 Axes>"
      ]
     },
     "metadata": {},
     "output_type": "display_data"
    }
   ],
   "source": [
    "# I am thinking pie chart to show this\n",
    "distribution = intakes.groupby(['animal_type']).count().plot(kind='pie', y='animal_id', ylabel='Distribution of Animal Types')"
   ]
  },
  {
   "cell_type": "markdown",
   "id": "c64bfcaf",
   "metadata": {},
   "source": [
    "## What are the adoption rates for specific breeds?"
   ]
  },
  {
   "cell_type": "code",
   "execution_count": 8,
   "id": "ae9fff3e",
   "metadata": {},
   "outputs": [
    {
     "name": "stdout",
     "output_type": "stream",
     "text": [
      "\n",
      "breed\n",
      "Pit Bull Mix    0.341065\n",
      "dtype: float64\n",
      "\n",
      "breed\n",
      "Chihuahua Shorthair Mix    0.259726\n",
      "dtype: float64\n",
      "\n",
      "breed\n",
      "Labrador Retriever Mix    0.258711\n",
      "dtype: float64\n",
      "\n",
      "breed\n",
      "German Shepherd Mix    0.104906\n",
      "dtype: float64\n",
      "\n",
      "breed\n",
      "Australian Cattle Dog Mix    0.059053\n",
      "dtype: float64\n"
     ]
    }
   ],
   "source": [
    "# Get the doggos\n",
    "dog_breeds = intakes[intakes['animal_type'] == 'Dog'] \n",
    "# Time to group\n",
    "dog_breeds = dog_breeds.groupby(['breed'])\n",
    "dog_breeds= dog_breeds.size().sort_values(ascending=False)\n",
    "\n",
    "# total doggos\n",
    "total_dogs = dog_breeds.count()\n",
    "\n",
    "for x in range(5):\n",
    "    y = x + 1\n",
    "    print('')\n",
    "    breeds = dog_breeds[x:y] / total\n",
    "    print(f'{breeds}')"
   ]
  },
  {
   "cell_type": "markdown",
   "id": "db10c9f8",
   "metadata": {},
   "source": [
    "## What are the adoption rates for different colorings?"
   ]
  },
  {
   "cell_type": "code",
   "execution_count": 9,
   "id": "2904c75c",
   "metadata": {},
   "outputs": [
    {
     "name": "stdout",
     "output_type": "stream",
     "text": [
      "Below is a list of the most popular colors and their ration of adoption compared to the total\n",
      "\n",
      "color\n",
      "Black/White    0.445703\n",
      "dtype: float64\n",
      "\n",
      "color\n",
      "Black    0.358593\n",
      "dtype: float64\n",
      "\n",
      "color\n",
      "Brown Tabby    0.239793\n",
      "dtype: float64\n",
      "\n",
      "color\n",
      "Brown    0.193352\n",
      "dtype: float64\n",
      "\n",
      "color\n",
      "White    0.152255\n",
      "dtype: float64\n"
     ]
    }
   ],
   "source": [
    "# Lets begin by grouping the colors\n",
    "colors = intakes.groupby(['color'])\n",
    "color_list = colors.size().sort_values(ascending=False)\n",
    "# Remember Total variable from above\n",
    "print('Below is a list of the most popular colors and their ration of adoption compared to the total')\n",
    "# List is ugly, but it gives what is needed \n",
    "for x in range(5):\n",
    "    y = x + 1\n",
    "    print('')\n",
    "    color = color_list[x:y] / total\n",
    "    print(f'{color}')"
   ]
  },
  {
   "cell_type": "markdown",
   "id": "9a3d366c",
   "metadata": {},
   "source": [
    "## About how many animals are spayed/neutered each month?"
   ]
  },
  {
   "cell_type": "code",
   "execution_count": 10,
   "id": "393d73c4",
   "metadata": {},
   "outputs": [
    {
     "data": {
      "text/plain": [
       "sex_upon_intake\n",
       "Unknown           6813\n",
       "Spayed Female    11231\n",
       "Neutered Male    12794\n",
       "Intact Female    23860\n",
       "Intact Male      25488\n",
       "dtype: int64"
      ]
     },
     "execution_count": 10,
     "metadata": {},
     "output_type": "execute_result"
    }
   ],
   "source": [
    "# First we need the numbers we are looking for\n",
    "spayed = intakes.groupby(['sex_upon_intake'])\n",
    "spayed.size().sort_values()\n",
    "# So I want 23860 + 25488"
   ]
  },
  {
   "cell_type": "code",
   "execution_count": 32,
   "id": "79c0177c",
   "metadata": {},
   "outputs": [
    {
     "data": {
      "text/plain": [
       "49348"
      ]
     },
     "execution_count": 32,
     "metadata": {},
     "output_type": "execute_result"
    }
   ],
   "source": [
    "# Setting the numbers as a variable.\n",
    "males = intakes.loc[intakes['sex_upon_intake'] == 'Intact Male']\n",
    "females = intakes.loc[intakes['sex_upon_intake'] == 'Intact Female']\n",
    "total = males.count() + females.count() \n",
    "# This gives 49,348\n",
    "number = total['animal_id']"
   ]
  },
  {
   "cell_type": "code",
   "execution_count": 17,
   "id": "b5d27f89",
   "metadata": {},
   "outputs": [],
   "source": [
    "# Found this function from Stack overflow, posted 12 years ago\n",
    "def diff_month(d1, d2):\n",
    "    return (d1.year - d2.year) * 12 + d1.month - d2.month\n",
    "\n",
    "# First, how many total months\n",
    "# earliest month\n",
    "first_month = intakes['datetime'].min()\n",
    "# Latest month\n",
    "last_month = intakes['datetime'].max()\n",
    "months = diff_month(last_month, first_month)\n",
    "# 53 months is what we are working with"
   ]
  },
  {
   "cell_type": "code",
   "execution_count": 38,
   "id": "bf250b90",
   "metadata": {},
   "outputs": [
    {
     "name": "stdout",
     "output_type": "stream",
     "text": [
      "Approximately 931.09 animals are spayed/neautered each month\n"
     ]
    }
   ],
   "source": [
    "# So 53 months to neuter/spay 49,348 animals. Time for math\n",
    "# Answer should be 931.094\n",
    "answer = total / months \n",
    "to_present = answer['animal_id'].round(2)\n",
    "print(f'Approximately {to_present} animals are spayed/neautered each month')"
   ]
  },
  {
   "cell_type": "code",
   "execution_count": null,
   "id": "699674e4",
   "metadata": {},
   "outputs": [],
   "source": []
  }
 ],
 "metadata": {
  "kernelspec": {
   "display_name": "Python 3 (ipykernel)",
   "language": "python",
   "name": "python3"
  },
  "language_info": {
   "codemirror_mode": {
    "name": "ipython",
    "version": 3
   },
   "file_extension": ".py",
   "mimetype": "text/x-python",
   "name": "python",
   "nbconvert_exporter": "python",
   "pygments_lexer": "ipython3",
   "version": "3.9.7"
  }
 },
 "nbformat": 4,
 "nbformat_minor": 5
}
